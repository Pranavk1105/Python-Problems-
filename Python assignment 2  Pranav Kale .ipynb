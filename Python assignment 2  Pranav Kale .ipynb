{
 "cells": [
  {
   "cell_type": "code",
   "execution_count": 1,
   "metadata": {},
   "outputs": [
    {
     "name": "stdout",
     "output_type": "stream",
     "text": [
      "No. of Upper case character :3\n",
      "No. of lower case character :11\n"
     ]
    }
   ],
   "source": [
    "# 1)Write a Python function that accepts a string and counts the number of upper and lowercase letters. \n",
    "\n",
    "def count_letters(s):\n",
    "    uppercase_count=0\n",
    "    lowercase_count=0\n",
    "    \n",
    "    for char in s:\n",
    "        if char.isupper():\n",
    "             uppercase_count += 1\n",
    "        elif char.islower():\n",
    "            lowercase_count += 1     \n",
    "    print(f\"No. of Upper case character :{uppercase_count}\")    \n",
    "    print(f\"No. of lower case character :{lowercase_count}\")    \n",
    "\n",
    "s = \"Happy Diwali Mam\" \n",
    "count_letters(s)                    "
   ]
  },
  {
   "cell_type": "code",
   "execution_count": 2,
   "metadata": {},
   "outputs": [
    {
     "name": "stdout",
     "output_type": "stream",
     "text": [
      "Unique List :[1, 2, 3, 4, 5]\n"
     ]
    }
   ],
   "source": [
    "#2)Write a Python function that takes a list and returns a new list with distinct elements from the first list.      \n",
    "\n",
    "def unique_list(lst):\n",
    "    return list(set(lst))\n",
    "\n",
    "sample_list= [1,2,3,3,3,3,4,5]\n",
    "unique_list= unique_list(sample_list)\n",
    "print(f'Unique List :{unique_list}')           "
   ]
  },
  {
   "cell_type": "code",
   "execution_count": 4,
   "metadata": {},
   "outputs": [
    {
     "name": "stdout",
     "output_type": "stream",
     "text": [
      "5 is not a perfect number.\n"
     ]
    }
   ],
   "source": [
    "# 3)Write a Python function to check whether a number is \"Perfect\" or not.\n",
    "def number_isperfect(n):\n",
    "    if n < 1:\n",
    "        return False\n",
    "    sum_divisors = 0\n",
    "    for i in range(1, n):\n",
    "        if n % i == 0:\n",
    "            sum_divisors += i\n",
    "    return sum_divisors == n\n",
    "\n",
    "n= int(input(\"Enter a number to check if it is perfect : \"))\n",
    "\n",
    "if number_isperfect(n):\n",
    "    print(f'{n} is a perfect number.')\n",
    "else :\n",
    "    print(f'{n} is not a perfect number.')\n"
   ]
  },
  {
   "cell_type": "code",
   "execution_count": 5,
   "metadata": {},
   "outputs": [
    {
     "name": "stdout",
     "output_type": "stream",
     "text": [
      "hyphen-separated sequence of words: pranav\n"
     ]
    }
   ],
   "source": [
    "#4) Write a Python program that accepts a hyphen-separated sequence of words as input and prints the words in a hyphen-separated sequence after sorting them alphabetically.\n",
    "\n",
    "def hypen_separated_sequence(sequence):\n",
    "    words = sequence.split('-')\n",
    "    words.sort()\n",
    "    return '-'.join(words)\n",
    "\n",
    "u= input(\"Enter a hyphen-separated sequence of words:\")\n",
    "sorted_sequence = hypen_separated_sequence(u)\n",
    "print(f\"hyphen-separated sequence of words: {sorted_sequence}\")\n"
   ]
  },
  {
   "cell_type": "code",
   "execution_count": 6,
   "metadata": {},
   "outputs": [
    {
     "name": "stdout",
     "output_type": "stream",
     "text": [
      "Details of the Student is:\n",
      "Name of the student:Pranav\n",
      "id:4004\n",
      "Birth_date: 11/09/2005\n",
      "cohort name:Elon Musk\n",
      "\n"
     ]
    }
   ],
   "source": [
    "# 5) WAP to demonstrate the functionality of positional argument in functions\n",
    "def details_student(name,id,birth_date,cohort):\n",
    "    print( f\"Details of the Student is:\\nName of the student:{name}\\nid:{id}\\nBirth_date: {birth_date}\\ncohort name:{cohort}\\n\")\n",
    "\n",
    "details_student('Pranav', id='4004',birth_date='11/09/2005', cohort= 'Elon Musk')"
   ]
  },
  {
   "cell_type": "code",
   "execution_count": 7,
   "metadata": {},
   "outputs": [
    {
     "name": "stdout",
     "output_type": "stream",
     "text": [
      "Details of the Student is:\n",
      "Name of the student:Pranav \n",
      "id:19003\n",
      "Birth_date: 11/10/2009\n",
      "cohort name:Elon Musk\n",
      "\n"
     ]
    }
   ],
   "source": [
    "# 6)WAP to demonstrate the functionality of keyword argument in functions\n",
    "def details_student(name,id,birth_date,cohort):\n",
    "    print(f'Details of the Student is:\\nName of the student:{name}\\nid:{id}\\nBirth_date: {birth_date}\\ncohort name:{cohort}\\n')\n",
    "details_student(name='Pranav ', id='19003', birth_date= '11/10/2009', cohort='Elon Musk')"
   ]
  },
  {
   "cell_type": "code",
   "execution_count": 8,
   "metadata": {},
   "outputs": [
    {
     "name": "stdout",
     "output_type": "stream",
     "text": [
      "Details of the Student using Positional Arg is: {'Name': 'Pranav', 'id': '5009', 'birth_date': '3/11/2008', 'cohort': 'Elon Musk'}\n",
      " \n",
      "Details of the Student using keyword Arg is: {'Name': 'BAMAN', 'id': '8008', 'birth_date': '30/12/2008', 'cohort': 'Elon Musk'} \n"
     ]
    }
   ],
   "source": [
    "# 7) WAP to demonstrate how positional arguments and keyword arguments can be used in functions\n",
    "def details_student(name,id,birth_date,cohort):\n",
    "    Detail1 = {\n",
    "        'Name' : name,\n",
    "        'id': id,\n",
    "        'birth_date' : birth_date,\n",
    "        'cohort': cohort\n",
    "\t}\n",
    "    return Detail1\n",
    "\n",
    "by_using_positional_arg= details_student('Pranav', '5009' , '3/11/2008', 'Elon Musk')\n",
    "by_using_keyword_arg= details_student('BAMAN', '8008' , '30/12/2008', 'Elon Musk')\n",
    "\n",
    "print(f\"Details of the Student using Positional Arg is: {by_using_positional_arg}\\n \")\n",
    "print(f\"Details of the Student using keyword Arg is: {by_using_keyword_arg} \")"
   ]
  },
  {
   "cell_type": "code",
   "execution_count": 10,
   "metadata": {},
   "outputs": [
    {
     "name": "stdout",
     "output_type": "stream",
     "text": [
      "Ram Ram, Pranav!\n",
      "Jai Gurudev, Pranav!\n"
     ]
    }
   ],
   "source": [
    "# 8) WAP to demonstrate the functionality of default argument in functions\n",
    "def greet_user(name , greeting= 'Ram Ram'):\n",
    "    print(f'{greeting}, {name}!')\n",
    "    \n",
    "greet_user('Pranav')\n",
    "greet_user('Pranav' , 'Jai Gurudev')"
   ]
  },
  {
   "cell_type": "code",
   "execution_count": 15,
   "metadata": {},
   "outputs": [
    {
     "name": "stdout",
     "output_type": "stream",
     "text": [
      "30\n"
     ]
    }
   ],
   "source": [
    "# 9) WAP to demonstrate how variable length arguments are used in functions.\n",
    "def sum_number(*args):\n",
    "    return sum(args)\n",
    "print(sum_number(1,2,3,4,10,9,1))"
   ]
  },
  {
   "cell_type": "code",
   "execution_count": 16,
   "metadata": {},
   "outputs": [
    {
     "name": "stdout",
     "output_type": "stream",
     "text": [
      "Anime info: \n",
      "anime_name: Dandadan\n",
      "rating: 8.57\n",
      "genre: Horror,Supernatural,Romance\n"
     ]
    }
   ],
   "source": [
    "# 10) WAP to demonstrate how variable length keyword arguments are used in functions.\n",
    "\n",
    "def dislay_student_info(**kwargs):\n",
    "    print(\"Anime info: \")\n",
    "    for key, value in kwargs.items():\n",
    "                print(f'{key}: {value}')\n",
    "                \n",
    "dislay_student_info(anime_name='Dandadan',rating=8.57, genre='Horror,Supernatural,Romance')"
   ]
  },
  {
   "cell_type": "code",
   "execution_count": 19,
   "metadata": {},
   "outputs": [
    {
     "name": "stdout",
     "output_type": "stream",
     "text": [
      "Addition: 15\n",
      "Subtraction: 5\n",
      "Multiplication: 50\n",
      "Division: 2.0\n"
     ]
    }
   ],
   "source": [
    "# 11)WAP to demonstrate how to create your own modules for common mathematical operations and import it and use it.\n",
    "import simplemath\n",
    "\n",
    "num1 = 10\n",
    "num2 = 5\n",
    "\n",
    "print(\"Addition:\", simplemath.add(num1, num2))\n",
    "print(\"Subtraction:\", simplemath.subtract(num1, num2))\n",
    "print(\"Multiplication:\",simplemath.multiply(num1, num2))\n",
    "print(\"Division:\", simplemath.divide(num1, num2))\n"
   ]
  },
  {
   "cell_type": "code",
   "execution_count": 21,
   "metadata": {},
   "outputs": [
    {
     "name": "stdout",
     "output_type": "stream",
     "text": [
      "Ceil of 59.76: 60\n",
      "Trunc of 59.76: 59\n",
      "Floor of 59.76: 59\n",
      "Factorial of 59.76: 5040\n",
      "Absolute of 59.76: 59.76\n",
      "7raised to the power of 100: 3.234476509624758e+84\n",
      " Fmod of 100 and 7: 2.0\n",
      "Fsum of [1, 2, 3, 4, 5, 6] and 7: 21.0\n",
      "Prod of [1, 2, 3, 4, 5, 6]: 720\n",
      "Square root of 7: 2.6457513110645907\n"
     ]
    }
   ],
   "source": [
    "# 12) WAP to demonstrate following functions in math module:\n",
    "import math \n",
    "from math import prod\n",
    "\n",
    "a= 59.76\n",
    "b= -6.9\n",
    "c=7\n",
    "d=100\n",
    "\n",
    "numbers = [1,2,3,4,5,6]\n",
    "\n",
    "print(f'Ceil of {a}: {math.ceil(a)}')\n",
    "\n",
    "print(f'Trunc of {a}: {math.trunc(a)}')\n",
    "\n",
    "print(f'Floor of {a}: {math.floor(a)}')\n",
    "\n",
    "print(f'Factorial of {a}: {math.factorial(c)}')\n",
    "\n",
    "print(f'Absolute of {a}: {math.fabs(a)}')\n",
    "\n",
    "print(f'{c}raised to the power of {d}: {math.pow(c,d)}')\n",
    "\n",
    "print(f' Fmod of {d} and {c}: {math.fmod(d,c)}')\n",
    "\n",
    "print(f'Fsum of {numbers} and {c}: {math.fsum(numbers)}')\n",
    "\n",
    "print(f'Prod of {numbers}: {prod(numbers)}')\n",
    "\n",
    "print(f\"Square root of {c}: {math.sqrt(c)}\")"
   ]
  },
  {
   "cell_type": "code",
   "execution_count": 23,
   "metadata": {},
   "outputs": [
    {
     "name": "stdout",
     "output_type": "stream",
     "text": [
      "random(): ,random.random()\n",
      "randint(1,10):) 8\n",
      "uniform(1.0 ,10.0): 5.7512393574035015\n",
      "choice(sequence): 4.180169051807923\n",
      "choice(sequnce): ['cherry', 'apple', 'date', 'banana']\n",
      "randrange(1,10,2): 9\n"
     ]
    }
   ],
   "source": [
    "# 12) WAP to demonstrate following functions in random module:\n",
    "import random\n",
    "\n",
    "print(\"random(): ,random.random()\")\n",
    "\n",
    "print('randint(1,10):)', random.randint(6,10))\n",
    "\n",
    "print(\"uniform(1.0 ,10.0):\", random.uniform(1.0,10.0))\n",
    "\n",
    "sequence = ['apple', 'banana','cherry','date']\n",
    "print(\"choice(sequence):\", random.uniform(1.0,10.0))\n",
    "\n",
    "random.shuffle(sequence)\n",
    "print('choice(sequnce):', sequence)\n",
    "\n",
    "print('randrange(1,10,2):', random.randrange(1,10,2))"
   ]
  },
  {
   "cell_type": "code",
   "execution_count": null,
   "metadata": {},
   "outputs": [],
   "source": [
    "# LIST "
   ]
  },
  {
   "cell_type": "code",
   "execution_count": 24,
   "metadata": {},
   "outputs": [
    {
     "name": "stdout",
     "output_type": "stream",
     "text": [
      "List with duplicates removed: [1, 2, 3, 4, 5]\n"
     ]
    }
   ],
   "source": [
    "# 14) Write a Python program to remove duplicates from a list.\n",
    "def remove_duplicates(input_list):\n",
    "    return list(set(input_list))\n",
    "\n",
    "# Example usage\n",
    "my_list = [1, 2, 2, 3, 4, 4, 5]\n",
    "unique_list = remove_duplicates(my_list)\n",
    "print(\"List with duplicates removed:\", unique_list)\n"
   ]
  },
  {
   "cell_type": "code",
   "execution_count": 25,
   "metadata": {},
   "outputs": [
    {
     "name": "stdout",
     "output_type": "stream",
     "text": [
      "True\n",
      "False\n"
     ]
    }
   ],
   "source": [
    "# 15) Write a Python func;on that takes two lists and returns True if they have at least one common member.\n",
    "def have_common_member(list1, list2):\n",
    "    for element in list1:\n",
    "        if element in list2:\n",
    "            return True\n",
    "    return False\n",
    "\n",
    "list_1 = [1,2,3,4,5]\n",
    "list_2 = [2,3,1,2,4,4,5]\n",
    "print(have_common_member(list_1, list_2))\n",
    "\n",
    "list_3 = [1,2,3,4,5]\n",
    "list_4 = [7,6,8,9,7]\n",
    "print(have_common_member(list_3, list_4))"
   ]
  },
  {
   "cell_type": "code",
   "execution_count": 26,
   "metadata": {},
   "outputs": [
    {
     "name": "stdout",
     "output_type": "stream",
     "text": [
      "1\n",
      "3\n",
      "5\n",
      "7\n",
      "9\n"
     ]
    }
   ],
   "source": [
    "#  16) Write a Python program to print the numbers of a specified list aBer removing even numbers from it.\n",
    "def print_odd_number(number_list):\n",
    "    for number in number_list:\n",
    "        if number %2 !=0 :\n",
    "            print(number)\n",
    "\n",
    "my_list =[ 1,2,3,4,5,6,7,8,9]\n",
    "print_odd_number(my_list)"
   ]
  },
  {
   "cell_type": "code",
   "execution_count": 27,
   "metadata": {},
   "outputs": [
    {
     "name": "stdout",
     "output_type": "stream",
     "text": [
      "The Second smallest number is: 6\n"
     ]
    }
   ],
   "source": [
    "# 17) Write a Python program to find the second smallest number in a list.\n",
    "def second_smallest(input_list):\n",
    "    if len(input_list)< 2 :\n",
    "        return None\n",
    "    unique_member = list(set(input_list))\n",
    "    unique_member.sort()\n",
    "    return unique_member[1]\n",
    "\n",
    "sample_list = [17,19,6,12,69,7,2]\n",
    "second_smallest = second_smallest(sample_list)\n",
    "print(f'The Second smallest number is: {second_smallest}')"
   ]
  },
  {
   "cell_type": "code",
   "execution_count": 28,
   "metadata": {},
   "outputs": [
    {
     "name": "stdout",
     "output_type": "stream",
     "text": [
      "Original list: [10, 20, 30, 40, 50, 60, 70, 80, 90, 100]\n",
      "List split every 2th element: [[10, 20], [30, 40], [50, 60], [70, 80], [90, 100]]\n"
     ]
    }
   ],
   "source": [
    "# 18) Write a Python program to split a list every Nth element.\n",
    "\n",
    "def split_list_nth(lst,n):\n",
    "    return [lst[i:i+n] for i in range(0,len(lst),n)]\n",
    "sample_list = [10,20,30,40,50,60,70,80,90,100]\n",
    "n=2 \n",
    "split_list= split_list_nth(sample_list,n)\n",
    "\n",
    "print(f'Original list: {sample_list}')\n",
    "print(f'List split every {n}th element: {split_list}')"
   ]
  },
  {
   "cell_type": "code",
   "execution_count": 30,
   "metadata": {},
   "outputs": [
    {
     "name": "stdout",
     "output_type": "stream",
     "text": [
      "Union: [66, 99, 40, 10, 45, 50, 20, 55, 88, 60, 30]\n",
      "Intersection: [40]\n"
     ]
    }
   ],
   "source": [
    "# 19) Write a Python func;on to find the union and intersec;on of two lists.\n",
    "\n",
    "def union_intersection(list_1,list_2):\n",
    "    union = list(set(list_1).union(set(list_2)))\n",
    "    intersection = list(set(list_1).intersection(set(list_2)))\n",
    "    return union , intersection\n",
    "\n",
    "list_1= [10,20,30,40,50,60]\n",
    "list_2= [45,55,66,40,88,99]\n",
    "union_result, intersection_result = union_intersection(list_1,list_2)\n",
    "\n",
    "print(\"Union:\",union_result)\n",
    "print(\"Intersection:\",intersection_result)"
   ]
  },
  {
   "cell_type": "code",
   "execution_count": 31,
   "metadata": {},
   "outputs": [
    {
     "name": "stdout",
     "output_type": "stream",
     "text": [
      "False\n",
      "False\n"
     ]
    }
   ],
   "source": [
    "# 20) Write a Python func;on to check if a list is a palindrome or not. Return true otherwise false.\n",
    "def is_palindrome(lst):\n",
    "    return lst == lst[::-1]\n",
    "\n",
    "list1=[11,22,33,21,16]\n",
    "list2=[11,22,46,55,64,49,58]\n",
    "print(is_palindrome(list1))\n",
    "print(is_palindrome(list2))"
   ]
  },
  {
   "cell_type": "code",
   "execution_count": 32,
   "metadata": {},
   "outputs": [
    {
     "name": "stdout",
     "output_type": "stream",
     "text": [
      "Compare list:  [10, 20, 30, 40, 50, 60, 70, 80, 90, 100]\n",
      "4th element of list:  40\n",
      "List from 0th th 4th index:  [10, 20, 30, 40, 50]\n",
      "List from -7th to 3rd element:  [40]\n",
      "List after appending 110:  [10, 20, 30, 40, 50, 60, 70, 80, 90, 100, 110]\n",
      "List after sorting: [10, 20, 30, 40, 50, 60, 70, 80, 90, 100, 110]\n",
      "Popped element:  110\n",
      "list after popping an element:  [10, 20, 30, 40, 50, 60, 70, 80, 90, 100]\n",
      "List after removing 40: [10, 20, 30, 50, 60, 70, 80, 90, 100]\n",
      "List after inserting 45 at index 2:  [10, 20, 45, 30, 50, 60, 70, 80, 90, 100]\n",
      "Count of 60 in list:  1\n",
      "List after extending:  [10, 20, 45, 30, 50, 60, 70, 80, 90, 100, 120, 130, 140]\n",
      "List after reversing:  [140, 130, 120, 100, 90, 80, 70, 60, 50, 30, 45, 20, 10]\n"
     ]
    }
   ],
   "source": [
    "\n",
    "# 23)  Write a program for various list slicing operation. a= [10,20,30,40,50,60,70,80,90,100]\n",
    "a = [10,20,30,40,50,60,70,80,90,100]\n",
    "\n",
    "print(\"Compare list: \",a)\n",
    "\n",
    "print('4th element of list: ', a[3])\n",
    "\n",
    "print('List from 0th th 4th index: ', a[0:5])\n",
    "\n",
    "print('List from -7th to 3rd element: ', a[-7:4])\n",
    "\n",
    "a.append(110)\n",
    "print(\"List after appending 110: \" , a)\n",
    "\n",
    "a.sort()\n",
    "print(\"List after sorting:\",a)\n",
    "\n",
    "popped_element = a.pop()\n",
    "print(\"Popped element: \", popped_element)\n",
    "print(\"list after popping an element: \", a)\n",
    "\n",
    "a.remove(40)\n",
    "print(\"List after removing 40:\",a)\n",
    "\n",
    "a.insert(2,45)\n",
    "print(\"List after inserting 45 at index 2: \",a)\n",
    "\n",
    "count_60= a.count(60)\n",
    "print(\"Count of 60 in list: \", count_60)\n",
    "\n",
    "a.extend([120,130,140])\n",
    "print(\"List after extending: \",a)\n",
    "\n",
    "\n",
    "\n",
    "a.reverse()\n",
    "print(\"List after reversing: \",a)"
   ]
  },
  {
   "cell_type": "code",
   "execution_count": 34,
   "metadata": {},
   "outputs": [
    {
     "name": "stdout",
     "output_type": "stream",
     "text": [
      "Sum of matrices: \n",
      "[110, 110, 110]\n",
      "[110, 110, 110]\n",
      "[110, 110, 110]\n"
     ]
    }
   ],
   "source": [
    "# 24) WAP to add two matrices using nested list\n",
    "def add_matrices(matrix1 , matrix2):\n",
    "    result = []\n",
    "    \n",
    "    for i in range(len(matrix1)):\n",
    "        result.append([matrix1[i][j] + matrix2[i][j] for j in range(len(matrix1[0]))])\n",
    "    return result\n",
    "\n",
    "matrix1= [\n",
    "    [11,22,33],\n",
    "    [44,55,66],\n",
    "    [77,88,99]\n",
    "]\n",
    "\n",
    "matrix2 = [\n",
    "    [99,88,77],\n",
    "    [66,55,44],\n",
    "    [33,22,11]\n",
    "]\n",
    "\n",
    "result = add_matrices(matrix1,matrix2)\n",
    "\n",
    "print(\"Sum of matrices: \")\n",
    "for row in result:\n",
    "    print(row)"
   ]
  },
  {
   "cell_type": "code",
   "execution_count": 35,
   "metadata": {},
   "outputs": [
    {
     "name": "stdout",
     "output_type": "stream",
     "text": [
      "List of integers from 11: 12\n"
     ]
    }
   ],
   "source": [
    "# 25) Consider a list with mixed type of elements such as l1=[1,’x’,4,5.6,’z’,9,’a’,0,4]. Create another list l2 using list comprehension which consist of only integer element present within list l1.\n",
    "\n",
    "l1 = [1,'x',4, 5.6, 'y',9,'z',0.4]\n",
    "\n",
    "l2 = [item for item in l1 if isinstance(item,int) ]\n",
    "\n",
    "print('List of integers from 11:', 12)"
   ]
  },
  {
   "cell_type": "code",
   "execution_count": null,
   "metadata": {},
   "outputs": [],
   "source": [
    "# TUPLE  "
   ]
  },
  {
   "cell_type": "code",
   "execution_count": 37,
   "metadata": {},
   "outputs": [
    {
     "name": "stdout",
     "output_type": "stream",
     "text": [
      "Element_wise sum of the said tuples:  (82, 107, 91, 125)\n"
     ]
    }
   ],
   "source": [
    "# 26) Write a Python program to compute the element-wise sum of given tuples. Original : (1, 2, 3, 4) (3, 5, 2, 1) (2, 2, 3, 1)\n",
    "tuple1 = (19,27,33,43)\n",
    "tuple2 = (38,52,27,16)\n",
    "tuple3 = (25,28,31,66)\n",
    "\n",
    "elementwise_sum = []\n",
    "for i in range(len(tuple1)):\n",
    "    elementwise_sum.append(tuple1[i] + tuple2[i]  + tuple3[i])\n",
    "    \n",
    "elementwise_sum = tuple(elementwise_sum)\n",
    "print(\"Element_wise sum of the said tuples: \", elementwise_sum)"
   ]
  },
  {
   "cell_type": "code",
   "execution_count": 38,
   "metadata": {},
   "outputs": [
    {
     "name": "stdout",
     "output_type": "stream",
     "text": [
      "Convert the said list of tuples to a list of lists:  [[6, 2], [7, 4], [9, 6]]\n"
     ]
    }
   ],
   "source": [
    "# 27) Write a Python program to convert a given list of tuples to a list of lists. Original list of tuples: [(1, 2), (2, 3), (3, 4)]\n",
    "\n",
    "original_tuples = [(6,2),(7,4),(9,6)]\n",
    "list_of_list = [list(t) for t in  original_tuples ]\n",
    "print(\"Convert the said list of tuples to a list of lists: \",list_of_list)"
   ]
  },
  {
   "cell_type": "code",
   "execution_count": 39,
   "metadata": {},
   "outputs": [
    {
     "name": "stdout",
     "output_type": "stream",
     "text": [
      "List after removing empty tuples:  [(2, 7), (6, 4), (5,)]\n"
     ]
    }
   ],
   "source": [
    "# 28) Write a Python program to remove an empty tuple(s) from a list of tuples.\n",
    "\n",
    "tuples_list= [(2,7),(),(6,4),(),(5,)]\n",
    "\n",
    "filtered_list = [t for t in tuples_list if t ]\n",
    "print(\"List after removing empty tuples: \", filtered_list)"
   ]
  },
  {
   "cell_type": "code",
   "execution_count": 40,
   "metadata": {},
   "outputs": [
    {
     "name": "stdout",
     "output_type": "stream",
     "text": [
      "Tuple of words:  ('Juice', 'pila', 'do', 'mousambi', 'ka')\n"
     ]
    }
   ],
   "source": [
    "# 29) Write a Python program to convert a given string to a tuple\n",
    "string = \"Juice pila do mousambi ka\"\n",
    "\n",
    "tuple_of_words = tuple(string.split())\n",
    "print(\"Tuple of words: \", tuple_of_words)"
   ]
  },
  {
   "cell_type": "code",
   "execution_count": 41,
   "metadata": {},
   "outputs": [
    {
     "name": "stdout",
     "output_type": "stream",
     "text": [
      "Product of the number in the tuple:  117960192\n"
     ]
    }
   ],
   "source": [
    "# 30) Write a Python program to calculate the product, mul;plying all the numbers in a given tuple.\n",
    "\n",
    "num= (56,27,32,46,53)\n",
    "prod=1\n",
    "\n",
    "for num in num:\n",
    "    prod *= num\n",
    "    \n",
    "print(\"Product of the number in the tuple: \",prod)"
   ]
  },
  {
   "cell_type": "code",
   "execution_count": 43,
   "metadata": {},
   "outputs": [
    {
     "name": "stdout",
     "output_type": "stream",
     "text": [
      "List of squares from 1 to 20:  [1, 4, 9, 16, 25, 36, 49, 64, 81, 100, 121, 144, 169, 196, 225, 256, 289, 324, 361]\n"
     ]
    }
   ],
   "source": [
    "# 31) WAP to create a list of square of numbers from 1 to 20 using List comprehension \n",
    "\n",
    "squares=[]\n",
    "\n",
    "for x in range(1,20):\n",
    "    squares.append(x**2)\n",
    "    \n",
    "print(\"List of squares from 1 to 20: \", squares)\n",
    "\n"
   ]
  },
  {
   "cell_type": "code",
   "execution_count": null,
   "metadata": {},
   "outputs": [],
   "source": [
    " # SET"
   ]
  },
  {
   "cell_type": "code",
   "execution_count": 44,
   "metadata": {},
   "outputs": [
    {
     "name": "stdout",
     "output_type": "stream",
     "text": [
      "Set after removing the items {17, 23, 39, 57, 46}\n"
     ]
    }
   ],
   "source": [
    "# 32) Write a Python program to remove an item from a set if it is present in the set.\n",
    "\n",
    "my_set = {17,23,39,46,57}\n",
    "item_to_remove = 4\n",
    "\n",
    "if item_to_remove in my_set:\n",
    "    my_set.remove(item_to_remove)\n",
    "    \n",
    "print(\"Set after removing the items\",my_set)"
   ]
  },
  {
   "cell_type": "code",
   "execution_count": 45,
   "metadata": {},
   "outputs": [
    {
     "name": "stdout",
     "output_type": "stream",
     "text": [
      "The two sets have some elements in common. \n"
     ]
    }
   ],
   "source": [
    "# 33) Write a Python program to check if two given sets have no elements in common. \n",
    "\n",
    "set1= {4,7,8}\n",
    "set2={8,6,2}\n",
    "\n",
    "if set1 & set2 == set():\n",
    "    print(\"The two sets have no elements in common. \")\n",
    "else:\n",
    "    print(\"The two sets have some elements in common. \")"
   ]
  },
  {
   "cell_type": "code",
   "execution_count": 46,
   "metadata": {},
   "outputs": [
    {
     "name": "stdout",
     "output_type": "stream",
     "text": [
      "{8, 2, 3, 7}\n"
     ]
    }
   ],
   "source": [
    "# 34) Get Only unique items from two sets \n",
    "\n",
    "set1 = {7,3,6,9}\n",
    "set2= {9,2,8,6}\n",
    "\n",
    "unique_list = set1.union(set2) - set1.intersection(set2)\n",
    "print(unique_list)"
   ]
  },
  {
   "cell_type": "code",
   "execution_count": 47,
   "metadata": {},
   "outputs": [
    {
     "name": "stdout",
     "output_type": "stream",
     "text": [
      "DXD, BLEACH, OVERFLOW\n"
     ]
    }
   ],
   "source": [
    "# 35) Write a Python program to Convert Set to one String\n",
    "\n",
    "my_set = {'BLEACH','DXD','OVERFLOW'}\n",
    "set_as_string = ', '.join(my_set)\n",
    "print(set_as_string)\n"
   ]
  },
  {
   "cell_type": "code",
   "execution_count": 48,
   "metadata": {},
   "outputs": [
    {
     "name": "stdout",
     "output_type": "stream",
     "text": [
      "2\n"
     ]
    }
   ],
   "source": [
    "# 36) WAP to count number of vowels using sets in given string\n",
    "\n",
    "input_string = input(\"Enter the string:\")\n",
    "vowels = 'aeiouAEIOU'\n",
    "count=0\n",
    "\n",
    "for char in input_string:\n",
    "    if char in vowels:\n",
    "        count += 1\n",
    "print(count)"
   ]
  },
  {
   "cell_type": "code",
   "execution_count": 49,
   "metadata": {},
   "outputs": [
    {
     "name": "stdout",
     "output_type": "stream",
     "text": [
      "[8, 64, 216, 512, 1000, 1728]\n"
     ]
    }
   ],
   "source": [
    "# 37) WAP to create a set of cubes of even numbers from 2 to 12 using set comprehension.\n",
    "\n",
    "cubes_of_even_num = {x**3 for x in range(2,13,2)}\n",
    "print(sorted(cubes_of_even_num))"
   ]
  },
  {
   "cell_type": "code",
   "execution_count": null,
   "metadata": {},
   "outputs": [],
   "source": [
    "# DICTIONARY \n"
   ]
  },
  {
   "cell_type": "code",
   "execution_count": 50,
   "metadata": {},
   "outputs": [
    {
     "name": "stdout",
     "output_type": "stream",
     "text": [
      "Sorted by value (ascending): {'digimon': 1, 'shin chan': 2, 'pokemon': 3, 'ultra B': 4}\n",
      "Sorted by value (descending): {'ultra B': 4, 'pokemon': 3, 'shin chan': 2, 'digimon': 1}\n"
     ]
    }
   ],
   "source": [
    "# 38) Write a Python script to sort (ascending and descending) a dictonary by value. \n",
    "\n",
    "my_dict = { 'pokemon':3, 'digimon' :1 ,'shin chan':2, 'ultra B':4}\n",
    "\n",
    "sorted_asc ={k: v for k, v in sorted(my_dict.items(), key=lambda item: item[1])}\n",
    "print(\"Sorted by value (ascending):\", sorted_asc)\n",
    "\n",
    "sorted_desc = {k: v for k, v in sorted(my_dict.items(), key=lambda item: item[1], reverse=True)}\n",
    "print(\"Sorted by value (descending):\", sorted_desc)"
   ]
  },
  {
   "cell_type": "code",
   "execution_count": 51,
   "metadata": {},
   "outputs": [
    {
     "name": "stdout",
     "output_type": "stream",
     "text": [
      "Dictionary after removing duplicates: {'CHIKU': 1, 'AAMBA': 2, 'GUAVA': 3}\n"
     ]
    }
   ],
   "source": [
    "# 39) Write a Python program to remove duplicates from the dic;onary.\n",
    "my_dict = {\n",
    "    'CHIKU':1,\n",
    "    'AAMBA': 2,\n",
    "    'SAFACHAND': 2,\n",
    "    'GUAVA': 3,\n",
    "    'DRAGONFRUIT': 1\n",
    "}\n",
    "\n",
    "unique_dict = {}\n",
    "for key, value in my_dict.items():\n",
    "    if value not in unique_dict.values():\n",
    "        unique_dict[key] = value\n",
    "\n",
    "\n",
    "print(\"Dictionary after removing duplicates:\", unique_dict)"
   ]
  },
  {
   "cell_type": "code",
   "execution_count": 52,
   "metadata": {},
   "outputs": [
    {
     "name": "stdout",
     "output_type": "stream",
     "text": [
      "{'a': 1, 'b': 5, 'c': 7, 'd': 5}\n"
     ]
    }
   ],
   "source": [
    "# 40) Write a Python program to combine two dic;onary by adding values for common keys.\n",
    "\n",
    "def combine_dictionaries(dict1, dict2):\n",
    "    combined_dict = dict1.copy()\n",
    "    for key, value in dict2.items():\n",
    "        if key in combined_dict:\n",
    "            combined_dict[key] += value  \n",
    "        else:\n",
    "            combined_dict[key] = value   \n",
    "    return combined_dict\n",
    "\n",
    " \n",
    "dict1 = {'a': 1, 'b': 2, 'c': 3}\n",
    "dict2 = {'b': 3, 'c': 4, 'd': 5}\n",
    "\n",
    "result = combine_dictionaries(dict1, dict2)\n",
    "print(result)  \n"
   ]
  },
  {
   "cell_type": "code",
   "execution_count": 53,
   "metadata": {},
   "outputs": [
    {
     "name": "stdout",
     "output_type": "stream",
     "text": [
      "{'s': 2, 'o': 2, 'u': 1, 'l': 1, 'c': 1, 'i': 1, 'e': 1, 't': 1, 'y': 1}\n"
     ]
    }
   ],
   "source": [
    "# 41) Write a Python program to create a dic;onary from a string. ( Track the count of the letters from the string.)\n",
    "def count_letters(input_string):\n",
    "    letter_count = {}  # Initialize the dictionary here\n",
    "\n",
    "    for char in input_string:\n",
    "        if char.isalpha():   \n",
    "            char = char.lower()  \n",
    "            if char in letter_count:\n",
    "                letter_count[char] += 1  \n",
    "            else:\n",
    "                letter_count[char] = 1\n",
    "                  \n",
    "    return letter_count\n",
    "\n",
    "input_string = \"Soul Society!\"\n",
    "result = count_letters(input_string)\n",
    "print(result)"
   ]
  },
  {
   "cell_type": "code",
   "execution_count": 54,
   "metadata": {},
   "outputs": [
    {
     "name": "stdout",
     "output_type": "stream",
     "text": [
      "{'b': 2}\n"
     ]
    }
   ],
   "source": [
    "# 42 Write a Python program to match key and values both, in two dic;onaries.\n",
    "def match_dicts(dict1, dict2):\n",
    "    matches = {}\n",
    "    \n",
    "    for key in dict1:\n",
    "        if key in dict2 and dict1[key] == dict2[key]:\n",
    "            matches[key] = dict1[key]  \n",
    "\n",
    "    return matches\n",
    "\n",
    " \n",
    "dict1 = {'a': 1, 'b': 2, 'c': 3}\n",
    "dict2 = {'b': 2, 'c': 4, 'd': 1}\n",
    "\n",
    "result = match_dicts(dict1, dict2)\n",
    "print(result) "
   ]
  },
  {
   "cell_type": "code",
   "execution_count": 55,
   "metadata": {},
   "outputs": [
    {
     "name": "stdout",
     "output_type": "stream",
     "text": [
      "{'milk': 0.7446, 'coffee': 1.825, 'bread': 1.825}\n"
     ]
    }
   ],
   "source": [
    "#43 Use dic;onary comprehension to convert the price of following dic;onary from dollar to pound\n",
    "\n",
    "conversion_rate = 0.73\n",
    "\n",
    "old_price = {'milk': 1.02, 'coffee': 2.5, 'bread': 2.5}\n",
    "\n",
    "new_price = {item: price * conversion_rate for item, price in old_price.items()}\n",
    "\n",
    "print(new_price)  "
   ]
  },
  {
   "cell_type": "code",
   "execution_count": 56,
   "metadata": {},
   "outputs": [
    {
     "name": "stdout",
     "output_type": "stream",
     "text": [
      "{'jack': 38, 'michael': 48}\n"
     ]
    }
   ],
   "source": [
    "# 44 Use dictonary comprehension to create a dic;onary to store only key value pairs having even age.\n",
    "\n",
    "original_dict = {'jack': 38, 'michael': 48, 'guido': 57, 'john': 33}\n",
    "\n",
    "even_age_dict = {name: age for name, age in original_dict.items() if age % 2 == 0}\n",
    "\n",
    "print(even_age_dict)  \n"
   ]
  }
 ],
 "metadata": {
  "kernelspec": {
   "display_name": "Python 3",
   "language": "python",
   "name": "python3"
  },
  "language_info": {
   "codemirror_mode": {
    "name": "ipython",
    "version": 3
   },
   "file_extension": ".py",
   "mimetype": "text/x-python",
   "name": "python",
   "nbconvert_exporter": "python",
   "pygments_lexer": "ipython3",
   "version": "3.12.6"
  }
 },
 "nbformat": 4,
 "nbformat_minor": 2
}
